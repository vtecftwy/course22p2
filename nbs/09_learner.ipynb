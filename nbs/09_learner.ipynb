{
 "cells": [
  {
   "cell_type": "code",
   "execution_count": null,
   "id": "da7e553f",
   "metadata": {},
   "outputs": [],
   "source": [
    "#| default_exp learner"
   ]
  },
  {
   "cell_type": "code",
   "execution_count": null,
   "id": "7e8f8491",
   "metadata": {},
   "outputs": [
    {
     "name": "stdout",
     "output_type": "stream",
     "text": [
      "Using cuda\n"
     ]
    }
   ],
   "source": [
    "#|export\n",
    "import pickle,gzip,math,os,time,shutil,torch,matplotlib as mpl,numpy as np,matplotlib.pyplot as plt\n",
    "import fastcore.all as fc\n",
    "from collections.abc import Mapping\n",
    "from pathlib import Path\n",
    "from operator import attrgetter,itemgetter\n",
    "from functools import partial\n",
    "from copy import copy\n",
    "from contextlib import contextmanager\n",
    "from warnings import warn\n",
    "\n",
    "# Pytorch\n",
    "from torch import tensor,nn,optim\n",
    "from torch.utils.data import DataLoader,default_collate\n",
    "import torch.nn.functional as F\n",
    "import torchvision.transforms.functional as TF\n",
    "# Huggingface\n",
    "from datasets import load_dataset,load_dataset_builder\n",
    "# Own package\n",
    "from miniai.datasets import *\n",
    "from miniai.conv import *\n",
    "\n",
    "from fastprogress import progress_bar,master_bar"
   ]
  },
  {
   "cell_type": "code",
   "execution_count": null,
   "id": "84a947f2",
   "metadata": {},
   "outputs": [],
   "source": [
    "from fastcore.test import test_close\n",
    "\n",
    "torch.set_printoptions(precision=2, linewidth=140, sci_mode=False)\n",
    "torch.manual_seed(1)\n",
    "mpl.rcParams['image.cmap'] = 'gray'\n",
    "\n",
    "import logging\n",
    "logging.disable(logging.WARNING)"
   ]
  },
  {
   "cell_type": "markdown",
   "id": "8f5eea66",
   "metadata": {},
   "source": [
    "## Learner"
   ]
  },
  {
   "cell_type": "markdown",
   "id": "17563e72",
   "metadata": {},
   "source": [
    "### Load and process data"
   ]
  },
  {
   "cell_type": "markdown",
   "id": "d6750016",
   "metadata": {},
   "source": [
    "Huggingface `datasets` package: [documentation](https://huggingface.co/docs/datasets/index)"
   ]
  },
  {
   "cell_type": "code",
   "execution_count": null,
   "id": "b22868a9",
   "metadata": {},
   "outputs": [
    {
     "data": {
      "application/vnd.jupyter.widget-view+json": {
       "model_id": "05612ea404dd487c86669037b72f2773",
       "version_major": 2,
       "version_minor": 0
      },
      "text/plain": [
       "  0%|          | 0/2 [00:00<?, ?it/s]"
      ]
     },
     "metadata": {},
     "output_type": "display_data"
    }
   ],
   "source": [
    "x,y = 'image','label'\n",
    "name = \"fashion_mnist\"\n",
    "dsd = load_dataset(name)"
   ]
  },
  {
   "cell_type": "code",
   "execution_count": null,
   "id": "1ad7ecde",
   "metadata": {},
   "outputs": [],
   "source": [
    "@inplace\n",
    "def transformi(b): b[x] = [torch.flatten(TF.to_tensor(o)) for o in b[x]]"
   ]
  },
  {
   "cell_type": "code",
   "execution_count": null,
   "id": "ad4d2ec0",
   "metadata": {},
   "outputs": [],
   "source": [
    "bs = 1024\n",
    "tds = dsd.with_transform(transformi)"
   ]
  },
  {
   "cell_type": "code",
   "execution_count": null,
   "id": "ba214e6b",
   "metadata": {},
   "outputs": [],
   "source": [
    "#|export\n",
    "class DataLoaders:\n",
    "    def __init__(self, *dls): self.train,self.valid = dls[:2]\n",
    "\n",
    "    @classmethod\n",
    "    def from_dd(cls, dd, batch_size, as_tuple=True, **kwargs):\n",
    "        \"\"\"from data dictionaries\"\"\"\n",
    "        return cls(*[DataLoader(ds, batch_size, collate_fn=collate_dict(ds), **kwargs) for ds in dd.values()])"
   ]
  },
  {
   "cell_type": "markdown",
   "id": "a431eea1",
   "metadata": {},
   "source": [
    "```python\n",
    "def collate_dict(ds):\n",
    "    get = itemgetter(*ds.features)\n",
    "    def _f(b): return get(default_collate(b))\n",
    "    return _f\n",
    "\n",
    "~/projects/fastai/course22p2/miniai/datasets.py\n",
    "```"
   ]
  },
  {
   "cell_type": "code",
   "execution_count": null,
   "id": "9cb11029",
   "metadata": {},
   "outputs": [
    {
     "data": {
      "text/plain": [
       "(torch.Size([1024, 784]), tensor([9, 0, 0, 3, 0, 2, 7, 2, 5, 5]))"
      ]
     },
     "execution_count": null,
     "metadata": {},
     "output_type": "execute_result"
    }
   ],
   "source": [
    "dls = DataLoaders.from_dd(tds, bs, num_workers=4)\n",
    "dt = dls.train\n",
    "xb,yb = next(iter(dt))\n",
    "xb.shape,yb[:10]"
   ]
  },
  {
   "cell_type": "code",
   "execution_count": null,
   "id": "d733c9b0",
   "metadata": {},
   "outputs": [],
   "source": [
    "class Learner:\n",
    "    def __init__(self, model, dls, loss_func, lr, opt_func=optim.SGD): fc.store_attr()\n",
    "\n",
    "    def one_batch(self):\n",
    "        self.xb,self.yb = to_device(self.batch)\n",
    "        self.preds = self.model(self.xb)\n",
    "        self.loss = self.loss_func(self.preds, self.yb)\n",
    "        if self.model.training:\n",
    "            self.loss.backward()\n",
    "            self.opt.step()\n",
    "            self.opt.zero_grad()\n",
    "        with torch.no_grad(): self.calc_stats()\n",
    "\n",
    "    def calc_stats(self):\n",
    "        acc = (self.preds.argmax(dim=1)==self.yb).float().sum()\n",
    "        self.accs.append(acc)\n",
    "        n = len(self.xb)\n",
    "        self.losses.append(self.loss*n)\n",
    "        self.ns.append(n)\n",
    "\n",
    "    def one_epoch(self, train):\n",
    "        self.model.training = train\n",
    "        dl = self.dls.train if train else self.dls.valid\n",
    "        for self.num,self.batch in enumerate(dl): self.one_batch()\n",
    "        n = sum(self.ns)\n",
    "        print(self.epoch, self.model.training, sum(self.losses).item()/n, sum(self.accs).item()/n)\n",
    "    \n",
    "    def fit(self, n_epochs):\n",
    "        self.accs,self.losses,self.ns = [],[],[]\n",
    "        self.model.to(def_device)\n",
    "        self.opt = self.opt_func(self.model.parameters(), self.lr)\n",
    "        self.n_epochs = n_epochs\n",
    "        for self.epoch in range(n_epochs):\n",
    "            self.one_epoch(True)\n",
    "            with torch.no_grad(): self.one_epoch(False)"
   ]
  },
  {
   "cell_type": "code",
   "execution_count": null,
   "id": "8edf58ea",
   "metadata": {},
   "outputs": [],
   "source": [
    "m,nh = 28*28,50\n",
    "model = nn.Sequential(nn.Linear(m,nh), nn.ReLU(), nn.Linear(nh,10))"
   ]
  },
  {
   "cell_type": "code",
   "execution_count": null,
   "id": "be2af2a1",
   "metadata": {},
   "outputs": [
    {
     "name": "stdout",
     "output_type": "stream",
     "text": [
      "0 True 1.1798682291666667 0.5961666666666666\n",
      "0 False 1.1331861607142857 0.6091857142857143\n"
     ]
    }
   ],
   "source": [
    "learn = Learner(model, dls, F.cross_entropy, lr=0.2)\n",
    "learn.fit(1)"
   ]
  },
  {
   "cell_type": "markdown",
   "id": "82718c6d",
   "metadata": {},
   "source": [
    "## Basic Callbacks Learner"
   ]
  },
  {
   "cell_type": "code",
   "execution_count": null,
   "id": "534c00e6",
   "metadata": {},
   "outputs": [],
   "source": [
    "#|export\n",
    "class CancelFitException(Exception): pass\n",
    "class CancelBatchException(Exception): pass\n",
    "class CancelEpochException(Exception): pass"
   ]
  },
  {
   "cell_type": "code",
   "execution_count": null,
   "id": "ee43512e",
   "metadata": {},
   "outputs": [],
   "source": [
    "#|export\n",
    "class Callback(): order = 0\n",
    "class SimpleCB(Callback): pass"
   ]
  },
  {
   "cell_type": "code",
   "execution_count": null,
   "id": "e37e0f26",
   "metadata": {},
   "outputs": [],
   "source": [
    "#|export\n",
    "def run_cbs(cbs, method_nm, learn=None):\n",
    "    for cb in sorted(cbs, key=attrgetter('order')):\n",
    "        method = getattr(cb, method_nm, None)\n",
    "        if method is not None:\n",
    "            if isinstance(cb, SimpleCB): method()\n",
    "            else: method(learn)"
   ]
  },
  {
   "cell_type": "markdown",
   "id": "f369ba68",
   "metadata": {},
   "source": [
    "Super simple callback for illustration"
   ]
  },
  {
   "cell_type": "code",
   "execution_count": null,
   "id": "583ce114",
   "metadata": {},
   "outputs": [],
   "source": [
    "class CompletionCB(SimpleCB):\n",
    "    def before_fit(self): self.count = 0\n",
    "    def after_batch(self): self.count += 1\n",
    "    def after_fit(self): print(f'Completed {self.count} batches')"
   ]
  },
  {
   "cell_type": "markdown",
   "id": "4f5a4c50",
   "metadata": {},
   "source": [
    "Explore the `run_cbs` function:"
   ]
  },
  {
   "cell_type": "code",
   "execution_count": null,
   "id": "c2b41ea4",
   "metadata": {},
   "outputs": [
    {
     "name": "stdout",
     "output_type": "stream",
     "text": [
      "Completed 2 batches\n"
     ]
    }
   ],
   "source": [
    "cbs = [CompletionCB()]\n",
    "run_cbs(cbs, 'before_fit')\n",
    "run_cbs(cbs, 'after_batch')\n",
    "run_cbs(cbs, 'after_batch')\n",
    "run_cbs(cbs, 'after_fit')"
   ]
  },
  {
   "cell_type": "code",
   "execution_count": null,
   "id": "dbd5cdc5",
   "metadata": {},
   "outputs": [],
   "source": [
    "class MyCompletionCB(SimpleCB):\n",
    "    def before_fit(self): \n",
    "        self.count = 0\n",
    "        print('before_fit', self.count)\n",
    "    def after_batch(self): \n",
    "        self.count += 1\n",
    "        print('after batch', self.count)\n",
    "    def after_fit(self): \n",
    "        print(f'Completed {self.count} batches')"
   ]
  },
  {
   "cell_type": "code",
   "execution_count": null,
   "id": "27187125",
   "metadata": {},
   "outputs": [
    {
     "name": "stdout",
     "output_type": "stream",
     "text": [
      "before_fit 0\n",
      "after batch 1\n",
      "after batch 2\n",
      "Completed 2 batches\n"
     ]
    }
   ],
   "source": [
    "cbs = [MyCompletionCB()]\n",
    "run_cbs(cbs, 'before_fit')\n",
    "run_cbs(cbs, 'after_batch')\n",
    "run_cbs(cbs, 'after_batch')\n",
    "run_cbs(cbs, 'after_fit')"
   ]
  },
  {
   "cell_type": "code",
   "execution_count": null,
   "id": "1761584c",
   "metadata": {},
   "outputs": [
    {
     "data": {
      "text/plain": [
       "<bound method MyCompletionCB.before_fit of <__main__.MyCompletionCB object>>"
      ]
     },
     "metadata": {},
     "output_type": "display_data"
    },
    {
     "data": {
      "text/plain": [
       "<bound method MyCompletionCB.after_batch of <__main__.MyCompletionCB object>>"
      ]
     },
     "metadata": {},
     "output_type": "display_data"
    },
    {
     "data": {
      "text/plain": [
       "<bound method MyCompletionCB.after_fit of <__main__.MyCompletionCB object>>"
      ]
     },
     "metadata": {},
     "output_type": "display_data"
    },
    {
     "data": {
      "text/plain": [
       "None"
      ]
     },
     "metadata": {},
     "output_type": "display_data"
    },
    {
     "data": {
      "text/plain": [
       "0"
      ]
     },
     "metadata": {},
     "output_type": "display_data"
    },
    {
     "name": "stdout",
     "output_type": "stream",
     "text": [
      "before_fit 0\n",
      "after batch 1\n",
      "Completed 1 batches\n"
     ]
    }
   ],
   "source": [
    "cb = MyCompletionCB()\n",
    "method_1 = getattr(cb, 'before_fit', None)\n",
    "method_2 = getattr(cb, 'after_batch', None)\n",
    "method_3 = getattr(cb, 'after_fit', None)\n",
    "method_4 = getattr(cb, 'unknown_method', None)\n",
    "display(method_1, method_2, method_3, method_4, cb.order)\n",
    "method_1()\n",
    "method_2()\n",
    "method_3()"
   ]
  },
  {
   "cell_type": "markdown",
   "id": "b0dcbdcd",
   "metadata": {},
   "source": [
    "Learner with the callbacks"
   ]
  },
  {
   "cell_type": "code",
   "execution_count": null,
   "id": "01de6ea0",
   "metadata": {},
   "outputs": [],
   "source": [
    "class Learner():\n",
    "    def __init__(self, model, dls, loss_func, lr, cbs, opt_func=optim.SGD): \n",
    "        fc.store_attr()\n",
    "\n",
    "    def one_batch(self):\n",
    "        self.preds = self.model(self.batch[0])\n",
    "        self.loss = self.loss_func(self.preds, self.batch[1])\n",
    "        if self.model.training:\n",
    "            self.loss.backward()\n",
    "            self.opt.step()\n",
    "            self.opt.zero_grad()\n",
    "\n",
    "    def one_epoch(self, train):\n",
    "        self.model.train(train)  # set model in training or not training mode\n",
    "        self.dl = self.dls.train if train else self.dls.valid\n",
    "        try:\n",
    "            self.callback('before_epoch')\n",
    "            for self.iter,self.batch in enumerate(self.dl):\n",
    "                try:\n",
    "                    self.callback('before_batch')\n",
    "                    self.one_batch()\n",
    "                    self.callback('after_batch')\n",
    "                except CancelBatchException: pass\n",
    "            self.callback('after_epoch')\n",
    "        except CancelEpochException: pass\n",
    "    \n",
    "    def fit(self, n_epochs):\n",
    "        self.n_epochs = n_epochs\n",
    "        self.epochs = range(n_epochs)\n",
    "        self.opt = self.opt_func(self.model.parameters(), self.lr)\n",
    "        try:\n",
    "            self.callback('before_fit')\n",
    "            for self.epoch in self.epochs:\n",
    "                self.one_epoch(True)\n",
    "                self.one_epoch(False)\n",
    "            self.callback('after_fit')\n",
    "        except CancelFitException: pass\n",
    "\n",
    "    def callback(self, method_nm): \n",
    "        run_cbs(self.cbs, method_nm, self) # last self to give access to learner calling the cb from within the cb"
   ]
  },
  {
   "cell_type": "code",
   "execution_count": null,
   "id": "38009cbf",
   "metadata": {},
   "outputs": [],
   "source": [
    "m,nh = 28*28,50\n",
    "def get_model(): return nn.Sequential(nn.Linear(m,nh), nn.ReLU(), nn.Linear(nh,10))"
   ]
  },
  {
   "cell_type": "code",
   "execution_count": null,
   "id": "7559838f",
   "metadata": {},
   "outputs": [
    {
     "name": "stdout",
     "output_type": "stream",
     "text": [
      "Completed 69 batches\n"
     ]
    }
   ],
   "source": [
    "model = get_model()\n",
    "learn = Learner(model, dls, F.cross_entropy, lr=0.2, cbs=[CompletionCB()])\n",
    "learn.fit(1)"
   ]
  },
  {
   "cell_type": "markdown",
   "id": "b60f6345",
   "metadata": {},
   "source": [
    "Can use the dedicated exception to stop training early"
   ]
  },
  {
   "cell_type": "code",
   "execution_count": null,
   "id": "e5c14d8e",
   "metadata": {},
   "outputs": [],
   "source": [
    "#| export\n",
    "class SingleBatchCB(SimpleCB):\n",
    "    order = 1\n",
    "    def after_batch(self): raise CancelFitException()"
   ]
  },
  {
   "cell_type": "code",
   "execution_count": null,
   "id": "29310ca2",
   "metadata": {},
   "outputs": [
    {
     "name": "stdout",
     "output_type": "stream",
     "text": [
      "before_fit 0\n",
      "after batch 1\n"
     ]
    }
   ],
   "source": [
    "learn = Learner(get_model(), dls, F.cross_entropy, lr=0.2, cbs=[SingleBatchCB(), MyCompletionCB()])\n",
    "learn.fit(1)"
   ]
  },
  {
   "cell_type": "markdown",
   "id": "5f22e47d",
   "metadata": {},
   "source": [
    "Now we can make the Learner make things more interesting, but only by using callbacks, not by changing the code !"
   ]
  },
  {
   "cell_type": "markdown",
   "id": "559c0986",
   "metadata": {},
   "source": [
    "## Metrics"
   ]
  },
  {
   "cell_type": "code",
   "execution_count": null,
   "id": "f810c642",
   "metadata": {},
   "outputs": [],
   "source": [
    "class Metric:\n",
    "    def __init__(self): self.reset()\n",
    "    def reset(self): self.vals,self.ns = [],[]\n",
    "    def add(self, inp, targ=None, n=1):\n",
    "        self.last = self.calc(inp, targ)\n",
    "        self.vals.append(self.last)\n",
    "        self.ns.append(n)\n",
    "    @property\n",
    "    def value(self):\n",
    "        ns = tensor(self.ns)\n",
    "        return (tensor(self.vals)*ns).sum()/ns.sum()\n",
    "    def calc(self, inps, targs): return inps"
   ]
  },
  {
   "cell_type": "markdown",
   "id": "ac19f616",
   "metadata": {},
   "source": [
    "We overwrite the Metric class method `calc` to evaluate the various metrics, e.g. accuracy"
   ]
  },
  {
   "cell_type": "code",
   "execution_count": null,
   "id": "092dd298",
   "metadata": {},
   "outputs": [],
   "source": [
    "class Accuracy(Metric):\n",
    "    def calc(self, inps, targs): return (inps==targs).float().mean()"
   ]
  },
  {
   "cell_type": "code",
   "execution_count": null,
   "id": "87752b24",
   "metadata": {},
   "outputs": [
    {
     "data": {
      "text/plain": [
       "tensor(0.45)"
      ]
     },
     "execution_count": null,
     "metadata": {},
     "output_type": "execute_result"
    }
   ],
   "source": [
    "acc = Accuracy()\n",
    "acc.add(tensor([0, 1, 2, 0, 1, 2]), tensor([0, 1, 1, 2, 1, 0]))\n",
    "acc.add(tensor([1, 1, 2, 0, 1]), tensor([0, 1, 1, 2, 1]))\n",
    "acc.value"
   ]
  },
  {
   "cell_type": "code",
   "execution_count": null,
   "id": "4cdf18e8",
   "metadata": {},
   "outputs": [
    {
     "data": {
      "text/plain": [
       "(tensor(0.62), 0.62)"
      ]
     },
     "execution_count": null,
     "metadata": {},
     "output_type": "execute_result"
    }
   ],
   "source": [
    "loss = Metric()\n",
    "loss.add(0.6, n=32)\n",
    "loss.add(0.9, n=2)\n",
    "loss.value, round((0.6*32+0.9*2)/(32+2), 2)"
   ]
  },
  {
   "cell_type": "markdown",
   "id": "1ca935dc",
   "metadata": {},
   "source": [
    "#### Unclear - TO BE REVIEWED"
   ]
  },
  {
   "cell_type": "markdown",
   "id": "2c814baa",
   "metadata": {},
   "source": [
    "> Note 1: in the run_cbs function (used in learning to call cbs), we can refer to the learner within run_cbs\n",
    "```python\n",
    "    def run_cbs(cbs, method_nm, learn=None):\n",
    "        for cb in sorted(cbs, key=attrgetter('order')):\n",
    "            method = getattr(cb, method_nm, None)\n",
    "            if method is not None:\n",
    "                if isinstance(cb, SimpleCB): method()\n",
    "                else: method(learn)\n",
    "```\n",
    "> This means that each callback function has an attribute `learn` that is the Learner's `self`, that is the learner/\n",
    "> \n",
    "> Within the callback, `self.learn` is actually the instance of the learner"
   ]
  },
  {
   "cell_type": "markdown",
   "id": "9d8c5ae9",
   "metadata": {},
   "source": [
    "> Note 2: Device callback to handle the gpu and cpu in a smoother way:"
   ]
  },
  {
   "cell_type": "markdown",
   "id": "1374baf0",
   "metadata": {},
   "source": [
    "Smart callback class that catches up undefined methods"
   ]
  },
  {
   "cell_type": "code",
   "execution_count": null,
   "id": "f79b1123",
   "metadata": {},
   "outputs": [],
   "source": [
    "# class CallbackCatchMethods(SimpleCB):\n",
    "#     order = 0\n",
    "#     _fwd = 'model opt batch epoch'.split()\n",
    "\n",
    "#     def __getattr__(self, name):\n",
    "#         \"\"\"Catches methods in _fwd and returns the same method in self.learn, i.e. the learner calling the callback\"\"\"\n",
    "#         if name in self._fwd: return getattr(self.learn, name)\n",
    "#         raise AttributeError(name)\n",
    "    \n",
    "#     def __setattr__(self, name, val):\n",
    "#         if name in self._fwd: warn(f'Setting {name} in callback. Did you mean to set `self.learn.{name}`?')\n",
    "#         super().__setattr__(name, val)\n",
    "    \n",
    "#     @property\n",
    "#     def training(self): return self.model.training"
   ]
  },
  {
   "cell_type": "code",
   "execution_count": null,
   "id": "5f1f6a39",
   "metadata": {},
   "outputs": [],
   "source": [
    "# #|export\n",
    "# class DeviceCB(CallbackCatchMethods):\n",
    "#     def before_fit(self): self.learn.model.to(def_device)\n",
    "#     def before_batch(self): self.learn.batch = to_device(self.learn.batch)"
   ]
  },
  {
   "cell_type": "markdown",
   "id": "f60aca4b",
   "metadata": {},
   "source": [
    "Save the default device in the callback class as self.def_device"
   ]
  },
  {
   "cell_type": "code",
   "execution_count": null,
   "id": "6c2ea8ae",
   "metadata": {},
   "outputs": [],
   "source": [
    "# class DeviceCB(CallbackCatchMethods):\n",
    "#     def __init__(self, device=def_device): fc.store_attr()\n",
    "#     def before_fit(self, *args, **kwargs): self.learn.model.to(self.device)\n",
    "#     def before_batch(self): self.learn.batch = to_device(self.learn.batch, device=self.device)"
   ]
  },
  {
   "cell_type": "code",
   "execution_count": null,
   "id": "3c1e2a57",
   "metadata": {},
   "outputs": [],
   "source": [
    "# def_device"
   ]
  },
  {
   "cell_type": "code",
   "execution_count": null,
   "id": "543cf230",
   "metadata": {},
   "outputs": [],
   "source": [
    "# cb = DeviceCB(device=def_device)\n",
    "# cb.device"
   ]
  },
  {
   "cell_type": "code",
   "execution_count": null,
   "id": "12855997",
   "metadata": {},
   "outputs": [],
   "source": [
    "# from pdb import set_trace"
   ]
  },
  {
   "cell_type": "code",
   "execution_count": null,
   "id": "b6a8073e",
   "metadata": {},
   "outputs": [],
   "source": [
    "# %%time\n",
    "# # using CPU (pass cpu to the device callback)\n",
    "# model = get_model()\n",
    "# learn = Learner(model, dls, F.cross_entropy, lr=0.2, cbs=[DeviceCB(device='cpu'), CompletionCB()])\n",
    "# learn.fit(1)"
   ]
  },
  {
   "cell_type": "code",
   "execution_count": null,
   "id": "f4f36b24",
   "metadata": {},
   "outputs": [],
   "source": [
    "# %%time\n",
    "# # using GPU (pass cuda to the device callback)\n",
    "\n",
    "# model = get_model()\n",
    "# learn = Learner(model, dls, F.cross_entropy, lr=0.2, cbs=[DeviceCB(device='cuda'), CompletionCB()])\n",
    "# learn.fit(1)"
   ]
  },
  {
   "cell_type": "markdown",
   "id": "de246847",
   "metadata": {},
   "source": [
    " https://youtu.be/GNAE6K228ck?t=1266"
   ]
  },
  {
   "cell_type": "markdown",
   "id": "fd992e37",
   "metadata": {},
   "source": [
    "## Torch implementation of metrics\n"
   ]
  },
  {
   "cell_type": "markdown",
   "id": "e16df8dd",
   "metadata": {},
   "source": [
    "`pip install torcheval`\n",
    "\n",
    "Documentation [here](https://pytorch.org/torcheval/stable/)"
   ]
  },
  {
   "cell_type": "code",
   "execution_count": null,
   "id": "e67c006c",
   "metadata": {},
   "outputs": [],
   "source": [
    "#|export\n",
    "from torcheval.metrics import MulticlassAccuracy, MulticlassRecall, Mean"
   ]
  },
  {
   "cell_type": "code",
   "execution_count": null,
   "id": "ee473e22",
   "metadata": {},
   "outputs": [
    {
     "data": {
      "text/plain": [
       "tensor(0.50)"
      ]
     },
     "execution_count": null,
     "metadata": {},
     "output_type": "execute_result"
    }
   ],
   "source": [
    "metric = MulticlassAccuracy(average='micro', num_classes=4)\n",
    "metric.update(input=tensor([0, 2, 1, 3]), target=tensor([0, 1, 2, 3]))\n",
    "metric.compute()"
   ]
  },
  {
   "cell_type": "markdown",
   "id": "fc9f588b",
   "metadata": {},
   "source": [
    "After reset, there us no data accumulated and computing the metric does not mean anything\n"
   ]
  },
  {
   "cell_type": "code",
   "execution_count": null,
   "id": "0c531ca0",
   "metadata": {},
   "outputs": [
    {
     "data": {
      "text/plain": [
       "tensor(nan)"
      ]
     },
     "execution_count": null,
     "metadata": {},
     "output_type": "execute_result"
    }
   ],
   "source": [
    "metric.reset()\n",
    "metric.compute()"
   ]
  },
  {
   "cell_type": "code",
   "execution_count": null,
   "id": "02200c6d",
   "metadata": {},
   "outputs": [
    {
     "data": {
      "text/plain": [
       "tensor([1., 0., 0., 1.])"
      ]
     },
     "execution_count": null,
     "metadata": {},
     "output_type": "execute_result"
    }
   ],
   "source": [
    "metric = MulticlassAccuracy(average=None, num_classes=4)\n",
    "metric.update(input=tensor([0, 2, 1, 3]), target=tensor([0, 1, 2, 3]))\n",
    "metric.compute()"
   ]
  },
  {
   "cell_type": "markdown",
   "id": "c4a42341",
   "metadata": {},
   "source": [
    "Build a Metric Call Back to print the metric.\n",
    "\n",
    "Jeremy Howard realized the the metrics from `torcheval` do not work properly when on the GPU, so we have this `to_cpu` function to detach the gradient from the tensor and then puts it on the CPU. It works for dict, list and tuples."
   ]
  },
  {
   "cell_type": "code",
   "execution_count": null,
   "id": "6f8692bd",
   "metadata": {},
   "outputs": [],
   "source": [
    "#|export\n",
    "def to_cpu(x):\n",
    "    if isinstance(x, Mapping): return {k:to_cpu(v) for k,v in x.items()}\n",
    "    if isinstance(x, list): return [to_cpu(o) for o in x]\n",
    "    if isinstance(x, tuple): return tuple(to_cpu(list(x)))\n",
    "    return x.detach().cpu()"
   ]
  },
  {
   "cell_type": "code",
   "execution_count": null,
   "id": "7fc682c1",
   "metadata": {},
   "outputs": [],
   "source": [
    "#|export\n",
    "class MetricsCB(Callback):\n",
    "    def __init__(self, *ms, **metrics):\n",
    "        \"\"\"Takes the passed metrics, saves them. When metric is passed with as a kw arg, kw used as metric name\"\"\"\n",
    "        for o in ms: metrics[type(o).__name__] = o\n",
    "        self.metrics = metrics\n",
    "        self.all_metrics = copy(metrics)\n",
    "        self.all_metrics['loss'] = self.loss = Mean()\n",
    "\n",
    "    def _log(self, d): print(d)\n",
    "    def before_fit(self, learn): \n",
    "        \"\"\"Creates a reference for the learner to find the current instance of the MetricCB\"\"\"\n",
    "        learn.metrics = self\n",
    "    def before_epoch(self, learn): [o.reset() for o in self.all_metrics.values()]\n",
    "\n",
    "    def after_epoch(self, learn):\n",
    "        log = {k:f'{v.compute():.3f}' for k,v in self.all_metrics.items()}\n",
    "        log['epoch'] = learn.epoch\n",
    "        log['train'] = 'train' if learn.model.training else 'eval'\n",
    "        self._log(log)\n",
    "\n",
    "    def after_batch(self, learn):\n",
    "        \"\"\"Grabs the predictions and the targets then update the metric data\"\"\"\n",
    "        x,y,*_ = to_cpu(learn.batch)\n",
    "        for m in self.metrics.values(): m.update(to_cpu(learn.preds), y)\n",
    "        self.loss.update(to_cpu(learn.loss), weight=len(x))"
   ]
  },
  {
   "cell_type": "code",
   "execution_count": null,
   "id": "339962be",
   "metadata": {},
   "outputs": [],
   "source": [
    "#|export\n",
    "class DeviceCB(Callback):\n",
    "    def __init__(self, device=def_device): fc.store_attr()\n",
    "    def before_fit(self, learn): learn.model.to(self.device)\n",
    "    def before_batch(self, learn): learn.batch = to_device(learn.batch, device=self.device)"
   ]
  },
  {
   "cell_type": "code",
   "execution_count": null,
   "id": "f35947a2",
   "metadata": {},
   "outputs": [
    {
     "name": "stdout",
     "output_type": "stream",
     "text": [
      "{'accuracy': '0.612', 'loss': '1.153', 'epoch': 0, 'train': 'train'}\n",
      "{'accuracy': '0.718', 'loss': '0.863', 'epoch': 0, 'train': 'eval'}\n"
     ]
    }
   ],
   "source": [
    "model = get_model()\n",
    "# pass the metrics as kw argument where the kw is the metric name\n",
    "metrics = MetricsCB(accuracy=MulticlassAccuracy())\n",
    "learn = Learner(model, dls, F.cross_entropy, lr=0.2, cbs=[DeviceCB(), metrics])\n",
    "learn.fit(1)"
   ]
  },
  {
   "cell_type": "code",
   "execution_count": null,
   "id": "f5ce9364",
   "metadata": {},
   "outputs": [
    {
     "name": "stdout",
     "output_type": "stream",
     "text": [
      "{'accuracy': '0.608', 'recall': '0.608', 'loss': '1.181', 'epoch': 0, 'train': 'train'}\n",
      "{'accuracy': '0.695', 'recall': '0.695', 'loss': '0.817', 'epoch': 0, 'train': 'eval'}\n"
     ]
    }
   ],
   "source": [
    "model = get_model()\n",
    "# Pass several metrics kw arguments\n",
    "metrics = MetricsCB(accuracy=MulticlassAccuracy(), recall=MulticlassRecall())\n",
    "learn = Learner(model, dls, F.cross_entropy, lr=0.2, cbs=[DeviceCB(), metrics])\n",
    "learn.fit(1)"
   ]
  },
  {
   "cell_type": "code",
   "execution_count": null,
   "id": "0f11e808",
   "metadata": {},
   "outputs": [
    {
     "name": "stdout",
     "output_type": "stream",
     "text": [
      "{'MulticlassAccuracy': '0.622', 'MulticlassRecall': '0.622', 'loss': '1.150', 'epoch': 0, 'train': 'train'}\n",
      "{'MulticlassAccuracy': '0.701', 'MulticlassRecall': '0.701', 'loss': '0.830', 'epoch': 0, 'train': 'eval'}\n"
     ]
    }
   ],
   "source": [
    "model = get_model()\n",
    "# Pass the metrics as positional arguments, and names will be the metric class names\n",
    "metrics = MetricsCB(MulticlassAccuracy(), MulticlassRecall())\n",
    "learn = Learner(model, dls, F.cross_entropy, lr=0.2, cbs=[DeviceCB(), metrics])\n",
    "learn.fit(1)"
   ]
  },
  {
   "cell_type": "markdown",
   "id": "b6963fe4",
   "metadata": {},
   "source": [
    "## Context Manager (simple syntax)"
   ]
  },
  {
   "cell_type": "markdown",
   "id": "7e892355",
   "metadata": {},
   "source": [
    "```python\n",
    "@contextmanager\n",
    "def my_context_manager_name(nm):\n",
    "    context manager code run before own code \n",
    "    yield\n",
    "    context manager code run after own code\n",
    "\n",
    "with my_context_manager_name('fit'):\n",
    "    own code\n",
    "```"
   ]
  },
  {
   "cell_type": "code",
   "execution_count": null,
   "id": "80696331",
   "metadata": {},
   "outputs": [
    {
     "name": "stdout",
     "output_type": "stream",
     "text": [
      "1. starting context manager with name: this_is_my_name\n",
      "   next line of code is first line of own code within `with` statement\n",
      "   -> print letter a\n",
      "   -> print letter b\n",
      "   -> print letter c\n",
      "   -> print letter d\n",
      "   -> print letter e\n",
      "   previous line of code is last line of own code within `with` statement\n",
      "2. ending context manager with name: this_is_my_name\n"
     ]
    }
   ],
   "source": [
    "@contextmanager\n",
    "def my_context_manager(name):\n",
    "    print(f\"1. starting context manager with name: {name}\")\n",
    "    print(f\"   next line of code is first line of own code within `with` statement\")\n",
    "    yield\n",
    "    print(f\"   previous line of code is last line of own code within `with` statement\")\n",
    "    print(f\"2. ending context manager with name: {name}\")\n",
    "\n",
    "with my_context_manager('this_is_my_name') as cm:\n",
    "    for l in 'abcde':\n",
    "        print(f'   -> print letter {l}')"
   ]
  },
  {
   "cell_type": "markdown",
   "id": "275b6ff5",
   "metadata": {},
   "source": [
    "`predict`, `get_loss`, `backward`, `step`, `zero_grad` are not defined in the class.\n",
    "\n",
    "But when one of these method is called with `self.predict()`, and it does not find the `def predict(self)`, it will call `__getattr__()` with the corresponding name. See mechanism below"
   ]
  },
  {
   "cell_type": "code",
   "execution_count": null,
   "id": "7d6164f9",
   "metadata": {},
   "outputs": [
    {
     "name": "stdout",
     "output_type": "stream",
     "text": [
      "10\n",
      "100\n",
      "name blabla was passed to __getattr__ \n",
      "the default function was called with argument blabla\n",
      "name brol was passed to __getattr__ \n",
      "the default function was called with argument brol\n"
     ]
    }
   ],
   "source": [
    "class MyDummyClass:\n",
    "    def __init__(self, val=0):\n",
    "        fc.store_attr()\n",
    "        \n",
    "    def p(self):\n",
    "        print(self.val)\n",
    "    \n",
    "    def pp(self):\n",
    "        print(self.val * 10)\n",
    "        \n",
    "    def play(self):\n",
    "        self.blabla()\n",
    "        \n",
    "    def default_fctn(self, arg):\n",
    "        print(f'the default function was called with argument {arg}')\n",
    "        \n",
    "    def __getattr__(self, name):\n",
    "        if '__' not in name:\n",
    "            print(f\"name {name} was passed to __getattr__ \")\n",
    "        if name in ('blabla', 'brol'): return partial(self.default_fctn, arg=name)\n",
    "        raise AttributeError(name)\n",
    "        \n",
    "mdc = MyDummyClass(val=10)\n",
    "mdc.p()\n",
    "mdc.pp()\n",
    "mdc.blabla()\n",
    "mdc.brol()\n",
    "# mdc.wrong_method()"
   ]
  },
  {
   "cell_type": "markdown",
   "id": "4538599e",
   "metadata": {},
   "source": [
    "The code below is actually making a call to `callback` with name 'predict','get_loss','backward','step' or 'zero_grad', if the corresponding method is called:\n",
    "\n",
    "\n",
    "```python\n",
    "def __getattr__(self, name):\n",
    "    if name in ('predict','get_loss','backward','step','zero_grad'): return partial(self.callback, name)\n",
    "    raise AttributeError(name)\n",
    "```"
   ]
  },
  {
   "cell_type": "markdown",
   "id": "24420ba4",
   "metadata": {},
   "source": [
    "## Flexible learner"
   ]
  },
  {
   "cell_type": "markdown",
   "id": "26d6b5ce",
   "metadata": {},
   "source": [
    "Refactor the code of the Learner to have less lines of code, \n",
    "- putting the handling of the callback as one single block, by using a context manager. It helps avoid writing several time the `try: self,.callback(...)`\n",
    "- calling methods (`self.predict(), self.get_loss()`) instead of `self.model(batch[0])` so that we can make the code more general and define the prediction and loss code separately. \n"
   ]
  },
  {
   "cell_type": "code",
   "execution_count": null,
   "id": "e1732aac",
   "metadata": {},
   "outputs": [],
   "source": [
    "#|export\n",
    "class Learner():\n",
    "    def __init__(self, model, dls, loss_func, lr=None, cbs=None, opt_func=optim.SGD):\n",
    "        cbs = fc.L(cbs)\n",
    "        fc.store_attr()\n",
    "    \n",
    "    @contextmanager\n",
    "    def callback_ctx(self, nm):\n",
    "        try:\n",
    "            self.callback(f'before_{nm}')\n",
    "            yield\n",
    "            self.callback(f'after_{nm}')\n",
    "        except globals()[f'Cancel{nm.title()}Exception']: pass\n",
    "        finally: self.callback(f'cleanup_{nm}')\n",
    "\n",
    "    def one_epoch(self, train):\n",
    "        self.model.train(train)\n",
    "        self.dl = self.dls.train if train else self.dls.valid\n",
    "        with self.callback_ctx('epoch'):\n",
    "            for self.iter,self.batch in enumerate(self.dl):\n",
    "                with self.callback_ctx('batch'):\n",
    "                    self.predict()\n",
    "                    self.get_loss()\n",
    "                    if self.training:\n",
    "                        self.backward()\n",
    "                        self.step()\n",
    "                        self.zero_grad()\n",
    "    \n",
    "    def fit(self, n_epochs, train=True, valid=True, cbs=None, lr=None):\n",
    "        cbs = fc.L(cbs)\n",
    "        # `add_cb` and `rm_cb` were added in lesson 18\n",
    "        for cb in cbs: self.cbs.append(cb)\n",
    "        try:\n",
    "            self.n_epochs = n_epochs\n",
    "            self.epochs = range(n_epochs)\n",
    "            self.opt = self.opt_func(self.model.parameters(), self.lr if lr is None else lr)\n",
    "            with self.callback_ctx('fit'):\n",
    "                for self.epoch in self.epochs:\n",
    "                    if train: self.one_epoch(True)\n",
    "                    if valid: torch.no_grad()(self.one_epoch)(False)\n",
    "        finally:\n",
    "            for cb in cbs: self.cbs.remove(cb)\n",
    "\n",
    "    def __getattr__(self, name):\n",
    "        if name in ('predict','get_loss','backward','step','zero_grad'): return partial(self.callback, name)\n",
    "        raise AttributeError(name)\n",
    "\n",
    "    def callback(self, method_nm): run_cbs(self.cbs, method_nm, self)\n",
    "    \n",
    "    @property\n",
    "    def training(self): return self.model.training"
   ]
  },
  {
   "cell_type": "markdown",
   "id": "6fe97c49",
   "metadata": {},
   "source": [
    "The callbacks for training in `TrainCB`.\n",
    "\n",
    "In this callback class, the code refers to `self.learn.preds`, instead of `self.preds`, because we are in the Callback class, not the Learner class. But Callback has this internal reference to the Learner object under `self.learn`"
   ]
  },
  {
   "cell_type": "code",
   "execution_count": null,
   "id": "bee3643f",
   "metadata": {},
   "outputs": [],
   "source": [
    "#|export\n",
    "class TrainCB(Callback):\n",
    "    def predict(self, learn): learn.preds = learn.model(learn.batch[0])\n",
    "    def get_loss(self, learn): learn.loss = learn.loss_func(learn.preds, learn.batch[1])\n",
    "    def backward(self, learn): learn.loss.backward()\n",
    "    def step(self, learn): learn.opt.step()\n",
    "    def zero_grad(self, learn): learn.opt.zero_grad()"
   ]
  },
  {
   "cell_type": "markdown",
   "id": "0c21e428",
   "metadata": {},
   "source": [
    "> fastprogress bars: [documentation](https://fastprogress.fast.ai/)"
   ]
  },
  {
   "cell_type": "code",
   "execution_count": null,
   "id": "7599c413",
   "metadata": {},
   "outputs": [
    {
     "data": {
      "text/html": [
       "\n",
       "<style>\n",
       "    /* Turns off some styling */\n",
       "    progress {\n",
       "        /* gets rid of default border in Firefox and Opera. */\n",
       "        border: none;\n",
       "        /* Needs to be in here for Safari polyfill so background images work as expected. */\n",
       "        background-size: auto;\n",
       "    }\n",
       "    progress:not([value]), progress:not([value])::-webkit-progress-bar {\n",
       "        background: repeating-linear-gradient(45deg, #7e7e7e, #7e7e7e 10px, #5c5c5c 10px, #5c5c5c 20px);\n",
       "    }\n",
       "    .progress-bar-interrupted, .progress-bar-interrupted::-webkit-progress-bar {\n",
       "        background: #F44336;\n",
       "    }\n",
       "</style>\n"
      ],
      "text/plain": [
       "<IPython.core.display.HTML object>"
      ]
     },
     "metadata": {},
     "output_type": "display_data"
    },
    {
     "data": {
      "text/html": [
       "Finished loop 0.<p>Finished loop 1.<p>Finished loop 2."
      ],
      "text/plain": [
       "<IPython.core.display.HTML object>"
      ]
     },
     "metadata": {},
     "output_type": "display_data"
    }
   ],
   "source": [
    "from time import sleep\n",
    "\n",
    "mb = master_bar(range(3))\n",
    "for i in mb:\n",
    "    for j in progress_bar(range(10), parent=mb):\n",
    "        sleep(0.1)\n",
    "        mb.child.comment = f'second bar stats'\n",
    "    mb.main_bar.comment = f'first bar stats'\n",
    "    mb.write(f'Finished loop {i}.')"
   ]
  },
  {
   "cell_type": "code",
   "execution_count": null,
   "id": "e9537f9f",
   "metadata": {},
   "outputs": [],
   "source": [
    "#|export\n",
    "class ProgressCB(Callback):\n",
    "    order = MetricsCB.order+1\n",
    "    def __init__(self, plot=False): self.plot = plot\n",
    "    def before_fit(self, learn):\n",
    "        learn.epochs = self.mbar = master_bar(learn.epochs)\n",
    "        self.first = True\n",
    "        if hasattr(learn, 'metrics'): learn.metrics._log = self._log\n",
    "        self.losses = []\n",
    "\n",
    "    def _log(self, d):\n",
    "        if self.first:\n",
    "            self.mbar.write(list(d), table=True)\n",
    "            self.first = False\n",
    "        self.mbar.write(list(d.values()), table=True)\n",
    "\n",
    "    def before_epoch(self, learn): learn.dl = progress_bar(learn.dl, leave=False, parent=self.mbar)\n",
    "    def after_batch(self, learn):\n",
    "        learn.dl.comment = f'{learn.loss:.3f}'\n",
    "        if self.plot and hasattr(learn, 'metrics') and learn.training:\n",
    "            self.losses.append(learn.loss.item())\n",
    "            self.mbar.update_graph([[fc.L.range(self.losses), self.losses]])"
   ]
  },
  {
   "cell_type": "code",
   "execution_count": null,
   "id": "b82dcb40",
   "metadata": {},
   "outputs": [],
   "source": [
    "model = get_model()"
   ]
  },
  {
   "cell_type": "code",
   "execution_count": null,
   "id": "3b77daf3",
   "metadata": {},
   "outputs": [
    {
     "data": {
      "text/html": [
       "\n",
       "<style>\n",
       "    /* Turns off some styling */\n",
       "    progress {\n",
       "        /* gets rid of default border in Firefox and Opera. */\n",
       "        border: none;\n",
       "        /* Needs to be in here for Safari polyfill so background images work as expected. */\n",
       "        background-size: auto;\n",
       "    }\n",
       "    progress:not([value]), progress:not([value])::-webkit-progress-bar {\n",
       "        background: repeating-linear-gradient(45deg, #7e7e7e, #7e7e7e 10px, #5c5c5c 10px, #5c5c5c 20px);\n",
       "    }\n",
       "    .progress-bar-interrupted, .progress-bar-interrupted::-webkit-progress-bar {\n",
       "        background: #F44336;\n",
       "    }\n",
       "</style>\n"
      ],
      "text/plain": [
       "<IPython.core.display.HTML object>"
      ]
     },
     "metadata": {},
     "output_type": "display_data"
    },
    {
     "data": {
      "text/html": [
       "<table border=\"1\" class=\"dataframe\">\n",
       "  <thead>\n",
       "    <tr style=\"text-align: left;\">\n",
       "      <th>accuracy</th>\n",
       "      <th>loss</th>\n",
       "      <th>epoch</th>\n",
       "      <th>train</th>\n",
       "    </tr>\n",
       "  </thead>\n",
       "  <tbody>\n",
       "    <tr>\n",
       "      <td>0.604</td>\n",
       "      <td>1.178</td>\n",
       "      <td>0</td>\n",
       "      <td>train</td>\n",
       "    </tr>\n",
       "    <tr>\n",
       "      <td>0.696</td>\n",
       "      <td>0.846</td>\n",
       "      <td>0</td>\n",
       "      <td>eval</td>\n",
       "    </tr>\n",
       "  </tbody>\n",
       "</table>"
      ],
      "text/plain": [
       "<IPython.core.display.HTML object>"
      ]
     },
     "metadata": {},
     "output_type": "display_data"
    },
    {
     "data": {
      "image/png": "[encoded data removed]",
      "text/plain": [
       "<Figure size 600x400 with 1 Axes>"
      ]
     },
     "metadata": {},
     "output_type": "display_data"
    }
   ],
   "source": [
    "metrics = MetricsCB(accuracy=MulticlassAccuracy())\n",
    "cbs = [TrainCB(), DeviceCB(), metrics, ProgressCB(plot=True)]\n",
    "learn = Learner(model, dls, F.cross_entropy, lr=0.2, cbs=cbs)\n",
    "learn.fit(1)"
   ]
  },
  {
   "cell_type": "markdown",
   "id": "3a5fc0f7",
   "metadata": {},
   "source": [
    "## TrainLearner and MomentumLearner"
   ]
  },
  {
   "cell_type": "code",
   "execution_count": null,
   "id": "51fe2944",
   "metadata": {},
   "outputs": [],
   "source": [
    "#|export\n",
    "class TrainLearner(Learner):\n",
    "    def predict(self): self.preds = self.model(self.batch[0])\n",
    "    def get_loss(self): self.loss = self.loss_func(self.preds, self.batch[1])\n",
    "    def backward(self): self.loss.backward()\n",
    "    def step(self): self.opt.step()\n",
    "    def zero_grad(self): self.opt.zero_grad()"
   ]
  },
  {
   "cell_type": "markdown",
   "id": "6133b2a4",
   "metadata": {},
   "source": [
    "In subclass `MomentumLearner`, we do not zero the gradients after each epoch, we scale them down by a factor `mom`. This means it will keep memory of the previous gradients (EMA), which turns out to be a momentum accumulation rule added on the plain vanilla SGD. It should improve the training performance within the same number of epochs"
   ]
  },
  {
   "cell_type": "code",
   "execution_count": null,
   "id": "c68148d5",
   "metadata": {},
   "outputs": [],
   "source": [
    "#|export\n",
    "class MomentumLearner(TrainLearner):\n",
    "    def __init__(self, model, dls, loss_func, lr=None, cbs=None, opt_func=optim.SGD, mom=0.85):\n",
    "        self.mom = mom\n",
    "        super().__init__(model, dls, loss_func, lr, cbs, opt_func)\n",
    "\n",
    "    def zero_grad(self):\n",
    "        with torch.no_grad():\n",
    "            for p in self.model.parameters(): p.grad *= self.mom"
   ]
  },
  {
   "cell_type": "code",
   "execution_count": null,
   "id": "452eff1d",
   "metadata": {},
   "outputs": [
    {
     "data": {
      "text/html": [
       "\n",
       "<style>\n",
       "    /* Turns off some styling */\n",
       "    progress {\n",
       "        /* gets rid of default border in Firefox and Opera. */\n",
       "        border: none;\n",
       "        /* Needs to be in here for Safari polyfill so background images work as expected. */\n",
       "        background-size: auto;\n",
       "    }\n",
       "    progress:not([value]), progress:not([value])::-webkit-progress-bar {\n",
       "        background: repeating-linear-gradient(45deg, #7e7e7e, #7e7e7e 10px, #5c5c5c 10px, #5c5c5c 20px);\n",
       "    }\n",
       "    .progress-bar-interrupted, .progress-bar-interrupted::-webkit-progress-bar {\n",
       "        background: #F44336;\n",
       "    }\n",
       "</style>\n"
      ],
      "text/plain": [
       "<IPython.core.display.HTML object>"
      ]
     },
     "metadata": {},
     "output_type": "display_data"
    },
    {
     "data": {
      "text/html": [
       "<table border=\"1\" class=\"dataframe\">\n",
       "  <thead>\n",
       "    <tr style=\"text-align: left;\">\n",
       "      <th>accuracy</th>\n",
       "      <th>loss</th>\n",
       "      <th>epoch</th>\n",
       "      <th>train</th>\n",
       "    </tr>\n",
       "  </thead>\n",
       "  <tbody>\n",
       "    <tr>\n",
       "      <td>0.683</td>\n",
       "      <td>0.973</td>\n",
       "      <td>0</td>\n",
       "      <td>train</td>\n",
       "    </tr>\n",
       "    <tr>\n",
       "      <td>0.805</td>\n",
       "      <td>0.543</td>\n",
       "      <td>0</td>\n",
       "      <td>eval</td>\n",
       "    </tr>\n",
       "  </tbody>\n",
       "</table>"
      ],
      "text/plain": [
       "<IPython.core.display.HTML object>"
      ]
     },
     "metadata": {},
     "output_type": "display_data"
    },
    {
     "data": {
      "image/png": "[encoded data removed]",
      "text/plain": [
       "<Figure size 600x400 with 1 Axes>"
      ]
     },
     "metadata": {},
     "output_type": "display_data"
    }
   ],
   "source": [
    "# NB: No TrainCB\n",
    "metrics = MetricsCB(accuracy=MulticlassAccuracy())\n",
    "cbs = [DeviceCB(), metrics, ProgressCB(plot=True)]\n",
    "learn = MomentumLearner(get_model(), dls, F.cross_entropy, lr=0.2, cbs=cbs)\n",
    "learn.fit(1)"
   ]
  },
  {
   "cell_type": "markdown",
   "id": "c2e3f750",
   "metadata": {},
   "source": [
    "## LRFinderCB"
   ]
  },
  {
   "cell_type": "code",
   "execution_count": null,
   "id": "bd9797bb",
   "metadata": {},
   "outputs": [],
   "source": [
    "class LRFinderCB(Callback):\n",
    "    def __init__(self, lr_mult=1.3): fc.store_attr()\n",
    "    \n",
    "    def before_fit(self, learn):\n",
    "        self.lrs,self.losses = [],[]\n",
    "        self.min = math.inf\n",
    "\n",
    "    def after_batch(self, learn):\n",
    "        if not learn.training: raise CancelEpochException()\n",
    "        # learning rates are stored in self,opt.param_groups dict\n",
    "        self.lrs.append(learn.opt.param_groups[0]['lr'])\n",
    "        loss = to_cpu(learn.loss)\n",
    "        self.losses.append(loss)\n",
    "        if loss < self.min: self.min = loss\n",
    "        if loss > self.min*3: raise CancelFitException()\n",
    "        for g in learn.opt.param_groups: g['lr'] *= self.lr_mult"
   ]
  },
  {
   "cell_type": "code",
   "execution_count": null,
   "id": "5f5aab94",
   "metadata": {},
   "outputs": [
    {
     "data": {
      "image/png": "[encoded data removed]",
      "text/plain": [
       "<Figure size 640x480 with 1 Axes>"
      ]
     },
     "metadata": {},
     "output_type": "display_data"
    }
   ],
   "source": [
    "# need to instanciate the callback first to be able to grab its lr and losses after\n",
    "lrfind = LRFinderCB()\n",
    "cbs = [DeviceCB(), lrfind]\n",
    "learn = MomentumLearner(get_model(), dls, F.cross_entropy, lr=1e-4, cbs=cbs)\n",
    "learn.fit(1)\n",
    "plt.plot(lrfind.lrs, lrfind.losses)\n",
    "plt.xscale('log')"
   ]
  },
  {
   "cell_type": "code",
   "execution_count": null,
   "id": "313fcb31",
   "metadata": {},
   "outputs": [],
   "source": [
    "#|export\n",
    "from torch.optim.lr_scheduler import ExponentialLR"
   ]
  },
  {
   "cell_type": "markdown",
   "id": "b7f61663",
   "metadata": {},
   "source": [
    "[ExponentialLR](https://pytorch.org/docs/stable/generated/torch.optim.lr_scheduler.ExponentialLR.html#torch.optim.lr_scheduler.ExponentialLR)"
   ]
  },
  {
   "cell_type": "code",
   "execution_count": null,
   "id": "1dd3748d",
   "metadata": {},
   "outputs": [],
   "source": [
    "#|export\n",
    "class LRFinderCB(Callback):\n",
    "    def __init__(self, gamma=1.3, max_mult=3): fc.store_attr()\n",
    "    \n",
    "    def before_fit(self, learn):\n",
    "        self.sched = ExponentialLR(learn.opt, self.gamma)\n",
    "        self.lrs,self.losses = [],[]\n",
    "        self.min = math.inf\n",
    "\n",
    "    def after_batch(self, learn):\n",
    "        if not learn.training: raise CancelEpochException()\n",
    "        self.lrs.append(learn.opt.param_groups[0]['lr'])\n",
    "        loss = to_cpu(learn.loss)\n",
    "        self.losses.append(loss)\n",
    "        if loss < self.min: self.min = loss\n",
    "        if loss > self.min*self.max_mult:\n",
    "            raise CancelFitException()\n",
    "        self.sched.step()\n",
    "\n",
    "    def cleanup_fit(self, learn):\n",
    "        plt.plot(self.lrs, self.losses)\n",
    "        plt.xscale('log')"
   ]
  },
  {
   "cell_type": "code",
   "execution_count": null,
   "id": "d50956a0",
   "metadata": {},
   "outputs": [
    {
     "data": {
      "image/png": "[encoded data removed]",
      "text/plain": [
       "<Figure size 640x480 with 1 Axes>"
      ]
     },
     "metadata": {},
     "output_type": "display_data"
    }
   ],
   "source": [
    "cbs = [DeviceCB()]\n",
    "learn = MomentumLearner(get_model(), dls, F.cross_entropy, lr=1e-5, cbs=cbs)\n",
    "learn.fit(3, cbs=LRFinderCB())"
   ]
  },
  {
   "cell_type": "code",
   "execution_count": null,
   "id": "2ff226c5",
   "metadata": {},
   "outputs": [],
   "source": [
    "#|export\n",
    "@fc.patch\n",
    "def lr_find(self:Learner, gamma=1.3, max_mult=3, start_lr=1e-5, max_epochs=10):\n",
    "    self.fit(max_epochs, lr=start_lr, cbs=LRFinderCB(gamma=gamma, max_mult=max_mult))"
   ]
  },
  {
   "cell_type": "markdown",
   "id": "c281c3eb",
   "metadata": {},
   "source": [
    "`lr_find` was added in lesson 18. It's just a shorter way of using `LRFinderCB`."
   ]
  },
  {
   "cell_type": "code",
   "execution_count": null,
   "id": "c945e79f",
   "metadata": {},
   "outputs": [
    {
     "data": {
      "image/png": "[encoded data removed]",
      "text/plain": [
       "<Figure size 640x480 with 1 Axes>"
      ]
     },
     "metadata": {},
     "output_type": "display_data"
    }
   ],
   "source": [
    "MomentumLearner(get_model(), dls, F.cross_entropy, cbs=cbs).lr_find()"
   ]
  },
  {
   "cell_type": "markdown",
   "id": "7bfb9bd2",
   "metadata": {},
   "source": [
    "## Export -"
   ]
  },
  {
   "cell_type": "code",
   "execution_count": null,
   "id": "465118f0",
   "metadata": {},
   "outputs": [],
   "source": [
    "import nbdev; nbdev.nbdev_export()"
   ]
  },
  {
   "cell_type": "code",
   "execution_count": null,
   "id": "0fc774ac",
   "metadata": {},
   "outputs": [],
   "source": []
  }
 ],
 "metadata": {
  "kernelspec": {
   "display_name": "Python 3 (ipykernel)",
   "language": "python",
   "name": "python3"
  }
 },
 "nbformat": 4,
 "nbformat_minor": 5
}
